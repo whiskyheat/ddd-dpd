{
 "cells": [
  {
   "cell_type": "code",
   "execution_count": 1,
   "id": "64df85ce",
   "metadata": {},
   "outputs": [],
   "source": [
    "import sys\n",
    "sys.path.append(\"../src\")\n"
   ]
  },
  {
   "cell_type": "code",
   "execution_count": 2,
   "id": "8c3abb91",
   "metadata": {},
   "outputs": [],
   "source": [
    "from ddd import Tag"
   ]
  },
  {
   "cell_type": "code",
   "execution_count": 3,
   "id": "06eaf2e0",
   "metadata": {},
   "outputs": [],
   "source": [
    "import pandas as pd"
   ]
  },
  {
   "cell_type": "code",
   "execution_count": null,
   "id": "63b096b7",
   "metadata": {},
   "outputs": [],
   "source": [
    "def load_data(as_df: bool = False):\n",
    "    data = pd.read_csv(\"../data/bewertungen.csv\")\n",
    "\n",
    "    # convert to objects\n",
    "    if not as_df:\n",
    "        data = [Tag.from_dataframe(row) for _, row in data.iterrows()] \n",
    "\n",
    "    return data"
   ]
  },
  {
   "cell_type": "code",
   "execution_count": 13,
   "id": "ee11b573",
   "metadata": {},
   "outputs": [],
   "source": [
    "data = load_data()\n",
    "#data"
   ]
  },
  {
   "cell_type": "code",
   "execution_count": 14,
   "id": "7ee8b642",
   "metadata": {},
   "outputs": [
    {
     "data": {
      "text/plain": [
       "Tag(WochenID=2, FolgenID=205, Datum='18.12.2006', Ort=None, K1=None, K2=9, K3=8, K4=7, K5=9, Summe=33, Mikkel=8, Andi=7, Chat=None, Person='Marco', Bemerkung='Chat: keine Wertung abgegeben')"
      ]
     },
     "execution_count": 14,
     "metadata": {},
     "output_type": "execute_result"
    }
   ],
   "source": [
    "tag = data[5]\n",
    "tag"
   ]
  }
 ],
 "metadata": {
  "kernelspec": {
   "display_name": ".venv",
   "language": "python",
   "name": "python3"
  },
  "language_info": {
   "codemirror_mode": {
    "name": "ipython",
    "version": 3
   },
   "file_extension": ".py",
   "mimetype": "text/x-python",
   "name": "python",
   "nbconvert_exporter": "python",
   "pygments_lexer": "ipython3",
   "version": "3.13.2"
  }
 },
 "nbformat": 4,
 "nbformat_minor": 5
}
